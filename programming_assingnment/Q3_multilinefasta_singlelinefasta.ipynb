{
 "cells": [
  {
   "cell_type": "markdown",
   "id": "fe29fb8c-b790-4982-a55a-3d0987669c05",
   "metadata": {},
   "source": [
    "# Theory"
   ]
  },
  {
   "cell_type": "markdown",
   "id": "69343d01-62ff-4ce2-9416-2286d6d9f482",
   "metadata": {},
   "source": [
    "## Converting Multi-line FASTA to Single-line FASTA\n",
    "\n",
    "FASTA files often contain sequences split across multiple lines, typically with 60 or 80 characters per line. This formatting, while human-readable, can make automated searching or processing difficult.\n",
    "   1. A header line starting with > followed by sequence description.\n",
    "   2. Sequence lines spanning multiple lines.\n",
    "   3. Our input file: multiline_input.fasta :\n",
    "      \n",
    "      `>`1\n",
    "      \n",
    "      // some sequence\n",
    "      \n",
    "      `>`2\n",
    "      \n",
    "      // some sequence\n",
    "      \n",
    "       ... and so on\n",
    " ## Goal:\n",
    "Convert each FASTA record so that:\n",
    "- The header (`>...`) remains as is on one line.\n",
    "- The corresponding nucleotide or protein sequence is merged into **a single line**.\n"
   ]
  },
  {
   "cell_type": "code",
   "execution_count": 3,
   "id": "2cf2588d-c9ca-4737-8a9b-f757f41951e8",
   "metadata": {},
   "outputs": [],
   "source": [
    "def convert_fasta(input_file, output_file):\n",
    "    with open(input_file, 'r') as f_in, open(output_file, 'w') as f_out:\n",
    "        sequence = \"\"\n",
    "        for line in f_in:\n",
    "            line = line.strip()\n",
    "            if line.startswith(\">\"):\n",
    "                if sequence:\n",
    "                    f_out.write(sequence + \"\\n\")\n",
    "                    sequence = \"\"\n",
    "                f_out.write(line + \"\\n\")\n",
    "            else:\n",
    "                sequence += line\n",
    "        if sequence:\n",
    "            f_out.write(sequence + \"\\n\")\n",
    "\n",
    "convert_fasta(\"multiline_input.fasta\", \"singleline_output.fasta\")\n"
   ]
  },
  {
   "cell_type": "markdown",
   "id": "433fa90e-cde8-4a11-a689-8440bdb5a011",
   "metadata": {},
   "source": [
    "### Output is in file named singleline_output.fasta\""
   ]
  },
  {
   "cell_type": "markdown",
   "id": "af729955-1878-4e48-a369-ac964e1a285a",
   "metadata": {},
   "source": [
    "### Another method using Library- We can directly use library(biopython) to convert  Multi-line FASTA to Single-line FASTA"
   ]
  },
  {
   "cell_type": "markdown",
   "id": "0ce4caa5-e98f-4a07-9689-db873a0fd1f9",
   "metadata": {},
   "source": [
    "#### Need to install biopython Libaray "
   ]
  },
  {
   "cell_type": "code",
   "execution_count": 7,
   "id": "e1f08d8c-7b14-42ea-bf0b-c167e53b794c",
   "metadata": {},
   "outputs": [
    {
     "name": "stdout",
     "output_type": "stream",
     "text": [
      "Requirement already satisfied: biopython in /opt/anaconda3/lib/python3.12/site-packages (1.85)\n",
      "Requirement already satisfied: numpy in /opt/anaconda3/lib/python3.12/site-packages (from biopython) (1.26.4)\n",
      "Note: you may need to restart the kernel to use updated packages.\n"
     ]
    }
   ],
   "source": [
    "pip install biopython"
   ]
  },
  {
   "cell_type": "code",
   "execution_count": 8,
   "id": "dd953586-17a9-43ec-99c9-35c25ba4d1bb",
   "metadata": {},
   "outputs": [],
   "source": [
    "from Bio import SeqIO\n",
    "def convert_fasta(input_file, output_file):\n",
    "    with open(output_file, 'w') as f_out:\n",
    "        for record in SeqIO.parse(input_file, \"fasta\"):\n",
    "            f_out.write(f\">{record.id}\\n{record.seq}\\n\")\n",
    "\n",
    "convert_fasta(\"multiline_input.fasta\", \"singleline(bio)_output.fasta\")\n"
   ]
  },
  {
   "cell_type": "markdown",
   "id": "1edb6e90-3b57-415f-8fd7-284c00b026e5",
   "metadata": {},
   "source": [
    "### Output is in file named singleline(bio)_output.fasta\""
   ]
  }
 ],
 "metadata": {
  "kernelspec": {
   "display_name": "Python [conda env:base] *",
   "language": "python",
   "name": "conda-base-py"
  },
  "language_info": {
   "codemirror_mode": {
    "name": "ipython",
    "version": 3
   },
   "file_extension": ".py",
   "mimetype": "text/x-python",
   "name": "python",
   "nbconvert_exporter": "python",
   "pygments_lexer": "ipython3",
   "version": "3.12.7"
  }
 },
 "nbformat": 4,
 "nbformat_minor": 5
}
