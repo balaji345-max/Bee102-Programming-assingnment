{
 "cells": [
  {
   "cell_type": "code",
   "execution_count": 2,
   "id": "4cf04ae2-8051-486b-bf83-3835dd373528",
   "metadata": {},
   "outputs": [],
   "source": [
    "import math"
   ]
  },
  {
   "cell_type": "markdown",
   "id": "02e9b404-932d-4301-a324-6853744a23b9",
   "metadata": {},
   "source": [
    "## Define states and mapping"
   ]
  },
  {
   "cell_type": "code",
   "execution_count": 4,
   "id": "4f8bd17b-c897-4b87-86d4-351ffa4b2ac1",
   "metadata": {},
   "outputs": [],
   "source": [
    "states = ['E', '5', 'I']\n",
    "state_to_idx = {s: i for i, s in enumerate(states)}"
   ]
  },
  {
   "cell_type": "markdown",
   "id": "d482cea1-3e5c-4b27-a4aa-867cc96e7e2d",
   "metadata": {},
   "source": [
    "## Transition Probabilities in Hidden Markov Models (HMM)\n",
    "\n",
    "### 🔹 Definition\n",
    "Transition probabilities describe the likelihood of moving from one hidden state to another in an HMM.\n",
    "\n",
    "They are written as:\n",
    "\n",
    "$$\n",
    "P(s_t = j \\mid s_{t-1} = i)\n",
    "$$\n",
    "\n",
    "Where:\n",
    "\n",
    "- \\( s_t \\): hidden state at time \\( t \\)\n",
    "- \\( s_{t-1} \\): hidden state at time \\( t-1 \\)\n",
    "\n",
    "---\n",
    "\n",
    "### 🔹 Key Points\n",
    "\n",
    "- They model how the system changes over time by capturing dependencies between consecutive hidden states.\n",
    "- For any given current state \\( i \\), the total probability of transitioning to all possible next states \\( j \\) must sum to 1:\n",
    "\n",
    "$$\n",
    "\\sum_{j} P(s_t = j \\mid s_{t-1} = i) = 1\n",
    "$$\n",
    "\n",
    "---\n",
    "\n",
    "### 🔹 Example: 5' Splice Site Detection in DNA\n",
    "\n",
    "Suppose we have the following HMM states:\n",
    "- **E**: Exon\n",
    "- **5**: 5' splice site\n",
    "- **I**: Intron\n",
    "\n",
    "Then the transition probabilities could be:\n",
    "\n",
    "- From Exon to Exon:\n",
    "\n",
    "  $$\n",
    "  P(E \\rightarrow E) = 0.9\n",
    "  $$\n",
    "\n",
    "- From Exon to 5' splice site:\n",
    "\n",
    "  $$\n",
    "  P(E \\rightarrow 5) = 0.1\n",
    "  $$\n",
    "\n",
    "- From 5' splice site to Intron:\n",
    "\n",
    "  $$\n",
    "  P(5 \\rightarrow I) = 1.0\n",
    "  $$\n"
   ]
  },
  {
   "cell_type": "markdown",
   "id": "1cd3810e-6663-44d5-abcd-03040fa9d969",
   "metadata": {},
   "source": [
    "## Transition matrix T[k][j] = P(from k to j)"
   ]
  },
  {
   "cell_type": "code",
   "execution_count": 7,
   "id": "b94231ab-69fe-4a0b-9edc-9ddf1c8554d5",
   "metadata": {},
   "outputs": [
    {
     "name": "stdout",
     "output_type": "stream",
     "text": [
      "[[0.9, 0.1, 0], [0, 0, 1], [0, 0, 0.9]]\n"
     ]
    }
   ],
   "source": [
    "T = [\n",
    "    [0.9, 0.1, 0],  # E to E, 5, I\n",
    "    [0, 0, 1],      # 5 to E, 5, I\n",
    "    [0, 0, 0.9]     # I to E, 5, I\n",
    "]\n",
    "print(T)"
   ]
  },
  {
   "cell_type": "markdown",
   "id": "25a644b6-4206-449e-b76d-b9ecf99b68e4",
   "metadata": {},
   "source": [
    "## probabilty to end state(only possible I_end)"
   ]
  },
  {
   "cell_type": "markdown",
   "id": "3fcc7dba-738c-4608-8526-be9ab106de7f",
   "metadata": {},
   "source": [
    "Intial state is always E so init=[1,0,0]"
   ]
  },
  {
   "cell_type": "code",
   "execution_count": 10,
   "id": "6f14271e-1896-4436-a2aa-7171a8695802",
   "metadata": {},
   "outputs": [],
   "source": [
    "P_to_end = [0, 0, 0.1]  \n",
    "init = [1, 0, 0] "
   ]
  },
  {
   "cell_type": "markdown",
   "id": "199853ad-c015-46d8-b795-ff08092f2e94",
   "metadata": {},
   "source": [
    "## Emission Probabilities in Hidden Markov Models (HMM)\n",
    "\n",
    "### 🔹 Definition\n",
    "Emission probabilities represent the likelihood of observing a specific symbol (e.g., a nucleotide like A, C, G, or T) given the current hidden state.\n",
    "\n",
    "They are written as:\n",
    "\n",
    "$$\n",
    "P(o_t = k \\mid s_t = i)\n",
    "$$\n",
    "\n",
    "Where:\n",
    "\n",
    "- \\( o_t \\): observed symbol at time \\( t \\)\n",
    "- \\( s_t \\): hidden state at time \\( t \\)\n",
    "\n",
    "---\n",
    "\n",
    "### 🔹 Key Points\n",
    "\n",
    "- Emission probabilities link the **hidden states** to the **observable data**.\n",
    "- For any given state \\( i \\), the sum of emission probabilities over all possible symbols \\( k \\) must be 1:\n",
    "\n",
    "$$\n",
    "\\sum_k P(o_t = k \\mid s_t = i) = 1\n",
    "$$\n",
    "\n",
    "---\n",
    "\n",
    "## Example: 5' Splice Site Detection in DNA\n",
    "\n",
    "### Exon State (E)\n",
    "Assume equal likelihood for all nucleotides:\n",
    "\n",
    "- \\( P(A \\| E) = 0.25 \\)\n",
    "- \\( P(C \\| E) = 0.25 \\)\n",
    "- \\( P(G \\| E) = 0.25 \\)\n",
    "- \\( P(T \\| E) = 0.25 \\)\n",
    "\n",
    "### 5' Splice Site State (5)\n",
    "Assume preference for G:\n",
    "\n",
    "- \\( P(G \\| 5) = 0.95 \\)\n",
    "- \\( P(A \\| 5) = 0.05 \\)\n",
    "- \\( P(C \\| 5) = 0 \\)\n",
    "- \\( P(T \\| 5) = 0 \\)\n",
    "\n",
    "### Intron State (I)\n",
    "Assume equal likelihood for all nucleotides:\n",
    "\n",
    "- \\( P(A \\| I) = 0.25 \\)\n",
    "- \\( P(C \\| I) = 0.25 \\)\n",
    "- \\( P(G \\| I) = 0.25 \\)\n",
    "- \\( P(T \\| I) = 0.25 \\)\n",
    "\n"
   ]
  },
  {
   "cell_type": "markdown",
   "id": "61b1adfd-e0f8-42aa-b5a3-ce7f22174af9",
   "metadata": {},
   "source": [
    "## Emission prob matrix"
   ]
  },
  {
   "cell_type": "code",
   "execution_count": 13,
   "id": "0ed7e130-8796-467e-b3d4-ab59dceab2d2",
   "metadata": {},
   "outputs": [
    {
     "name": "stdout",
     "output_type": "stream",
     "text": [
      "[{'A': 0.25, 'C': 0.25, 'G': 0.25, 'T': 0.25}, {'A': 0.05, 'C': 0, 'G': 0.95, 'T': 0}, {'A': 0.4, 'C': 0.1, 'G': 0.1, 'T': 0.4}]\n"
     ]
    }
   ],
   "source": [
    "E = [\n",
    "    {'A': 0.25, 'C': 0.25, 'G': 0.25, 'T': 0.25},  # E\n",
    "    {'A': 0.05, 'C': 0, 'G': 0.95, 'T': 0},       # 5\n",
    "    {'A': 0.4, 'C': 0.1, 'G': 0.1, 'T': 0.4}      # I\n",
    "]\n",
    "print(E)"
   ]
  },
  {
   "cell_type": "markdown",
   "id": "e8694b9d-bce6-4ec0-8f4a-a6192b73539a",
   "metadata": {},
   "source": [
    "## Calculating log probability of a given state path for the sequence."
   ]
  },
  {
   "cell_type": "code",
   "execution_count": 15,
   "id": "5da9ce48-bbf2-44e2-a643-b25c5d4b5e5f",
   "metadata": {},
   "outputs": [],
   "source": [
    "def get_log_prob_of_a_given_path(path_str, sequence):\n",
    "    L = len(sequence)\n",
    "    path = [state_to_idx[s] for s in path_str]\n",
    "    pi1 = path[0]\n",
    "    if init[pi1] == 0 or E[pi1].get(sequence[0], 0) == 0:\n",
    "        return float('-inf')\n",
    "    log_p = math.log(init[pi1]) + math.log(E[pi1][sequence[0]])\n",
    "\n",
    "    for i in range(1, L):\n",
    "        prev_state = path[i-1]\n",
    "        curr_state = path[i]\n",
    "        trans_prob = T[prev_state][curr_state]\n",
    "        emit_prob = E[curr_state].get(sequence[i], 0)\n",
    "        if trans_prob == 0 or emit_prob == 0:\n",
    "            return float('-inf')\n",
    "        log_p += math.log(trans_prob) + math.log(emit_prob)\n",
    "    last_state = path[-1]\n",
    "    p_to_end = P_to_end[last_state]\n",
    "    if p_to_end == 0:\n",
    "        return float('-inf')\n",
    "    log_p += math.log(p_to_end)\n",
    "    \n",
    "    return log_p"
   ]
  },
  {
   "cell_type": "markdown",
   "id": "e134bc23-b3d4-4b6b-9233-57f25db315fb",
   "metadata": {},
   "source": [
    "# Viterbi Algorithm-Implementation"
   ]
  },
  {
   "cell_type": "code",
   "execution_count": 17,
   "id": "19a90ce4-ddce-477a-9f28-da602041132c",
   "metadata": {},
   "outputs": [],
   "source": [
    "def viterbi(sequence):\n",
    "    \"\"\"Find the most likely state path using the Viterbi algorithm.\"\"\"\n",
    "    L = len(sequence)\n",
    "    N = len(states)\n",
    "    V = [[float('-inf') for _ in range(N)] for _ in range(L)]\n",
    "    bp = [[0 for _ in range(N)] for _ in range(L)]\n",
    "    s1 = sequence[0]\n",
    "    for k in range(N):\n",
    "        if init[k] > 0 and E[k].get(s1, 0) > 0:\n",
    "            V[0][k] = math.log(init[k]) + math.log(E[k][s1])\n",
    "\n",
    "    for i in range(1, L):\n",
    "        si = sequence[i]\n",
    "        for j in range(N):\n",
    "            if E[j].get(si, 0) > 0:\n",
    "                max_log_p = float('-inf')\n",
    "                best_k = -1\n",
    "                for k in range(N):\n",
    "                    if T[k][j] > 0:\n",
    "                        log_p = V[i-1][k] + math.log(T[k][j])\n",
    "                        if log_p > max_log_p:\n",
    "                            max_log_p = log_p\n",
    "                            best_k = k\n",
    "                if best_k != -1:\n",
    "                    V[i][j] = max_log_p + math.log(E[j][si])\n",
    "                    bp[i][j] = best_k\n",
    "    \n",
    "    max_log_p = float('-inf')\n",
    "    best_last_k = -1\n",
    "    for k in range(N):\n",
    "        if P_to_end[k] > 0 and V[L-1][k] != float('-inf'):\n",
    "            log_p = V[L-1][k] + math.log(P_to_end[k])\n",
    "            if log_p > max_log_p:\n",
    "                max_log_p = log_p\n",
    "                best_last_k = k\n",
    "    \n",
    "    if best_last_k == -1:\n",
    "        return None, float('-inf')\n",
    "     # Backtracking to reconstruct the path\n",
    "    path = [best_last_k]\n",
    "    for i in range(L-1, 0, -1):\n",
    "        prev_k = bp[i][path[0]]\n",
    "        path.insert(0, prev_k)\n",
    "    \n",
    "    path_str = ''.join(states[k] for k in path)\n",
    "    return path_str, max_log_p"
   ]
  },
  {
   "cell_type": "markdown",
   "id": "5b3a5822-2771-4b0f-92cb-bbb5371f20fd",
   "metadata": {},
   "source": [
    "## Testing with Example Given"
   ]
  },
  {
   "cell_type": "code",
   "execution_count": 19,
   "id": "c50b029f-e1bc-4059-9669-a9ee5a1ac655",
   "metadata": {},
   "outputs": [
    {
     "name": "stdout",
     "output_type": "stream",
     "text": [
      "Log probability of path 'EEEEEEEEEEEEEEEEEE5IIIIIII': -41.22\n"
     ]
    }
   ],
   "source": [
    "sequence = \"CTTCATGTGAAAGCAGACGTAAGTCA\"\n",
    "specific_path =\"EEEEEEEEEEEEEEEEEE5IIIIIII\"\n",
    "log_p_specific = get_log_prob_of_a_given_path(specific_path, sequence)\n",
    "print(f\"Log probability of path '{specific_path}': {log_p_specific:.2f}\")"
   ]
  },
  {
   "cell_type": "markdown",
   "id": "ea299a1f-67c3-4461-9c00-d3bcfd2a4c87",
   "metadata": {},
   "source": [
    "## Most Likely Path"
   ]
  },
  {
   "cell_type": "code",
   "execution_count": 21,
   "id": "23baf39a-21bc-4283-9879-46e064788488",
   "metadata": {},
   "outputs": [
    {
     "name": "stdout",
     "output_type": "stream",
     "text": [
      "Most likely path: EEEEEEEEEEEEEEEEEE5IIIIIII\n",
      "Log probability: -41.22\n"
     ]
    }
   ],
   "source": [
    "path, log_p = viterbi(sequence)\n",
    "print(f\"Most likely path: {path}\")\n",
    "print(f\"Log probability: {log_p:.2f}\")"
   ]
  }
 ],
 "metadata": {
  "kernelspec": {
   "display_name": "Python [conda env:base] *",
   "language": "python",
   "name": "conda-base-py"
  },
  "language_info": {
   "codemirror_mode": {
    "name": "ipython",
    "version": 3
   },
   "file_extension": ".py",
   "mimetype": "text/x-python",
   "name": "python",
   "nbconvert_exporter": "python",
   "pygments_lexer": "ipython3",
   "version": "3.12.7"
  }
 },
 "nbformat": 4,
 "nbformat_minor": 5
}
