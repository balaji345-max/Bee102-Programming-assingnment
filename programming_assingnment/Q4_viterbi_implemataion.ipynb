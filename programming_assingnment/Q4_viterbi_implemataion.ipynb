{
 "cells": [
  {
   "cell_type": "code",
   "execution_count": 1,
   "id": "4cf04ae2-8051-486b-bf83-3835dd373528",
   "metadata": {},
   "outputs": [],
   "source": [
    "import math\n",
    "import numpy as np"
   ]
  },
  {
   "cell_type": "markdown",
   "id": "02e9b404-932d-4301-a324-6853744a23b9",
   "metadata": {},
   "source": [
    "## Define states and mapping"
   ]
  },
  {
   "cell_type": "code",
   "execution_count": 3,
   "id": "4f8bd17b-c897-4b87-86d4-351ffa4b2ac1",
   "metadata": {},
   "outputs": [],
   "source": [
    "states = ['E', '5', 'I']\n",
    "state_to_idx = {s: i for i, s in enumerate(states)}"
   ]
  },
  {
   "cell_type": "markdown",
   "id": "d482cea1-3e5c-4b27-a4aa-867cc96e7e2d",
   "metadata": {},
   "source": [
    "## Transition Probabilities in Hidden Markov Models (HMM)\n",
    "\n",
    "### 🔹 Definition\n",
    "Transition probabilities describe the likelihood of moving from one hidden state to another in an HMM.\n",
    "\n",
    "They are written as:\n",
    "\n",
    "$$\n",
    "P(s_t = j \\mid s_{t-1} = i)\n",
    "$$\n",
    "\n",
    "Where:\n",
    "\n",
    "- \\( s_t \\): hidden state at time \\( t \\)\n",
    "- \\( s_{t-1} \\): hidden state at time \\( t-1 \\)\n",
    "\n",
    "---\n",
    "\n",
    "### 🔹 Key Points\n",
    "\n",
    "- They model how the system changes over time by capturing dependencies between consecutive hidden states.\n",
    "- For any given current state \\( i \\), the total probability of transitioning to all possible next states \\( j \\) must sum to 1:\n",
    "\n",
    "$$\n",
    "\\sum_{j} P(s_t = j \\mid s_{t-1} = i) = 1\n",
    "$$\n",
    "\n",
    "---\n",
    "\n"
   ]
  },
  {
   "cell_type": "markdown",
   "id": "1cd3810e-6663-44d5-abcd-03040fa9d969",
   "metadata": {},
   "source": [
    "## Transition matrix T[k][j] = P(from k to j)"
   ]
  },
  {
   "cell_type": "code",
   "execution_count": 6,
   "id": "b94231ab-69fe-4a0b-9edc-9ddf1c8554d5",
   "metadata": {},
   "outputs": [
    {
     "name": "stdout",
     "output_type": "stream",
     "text": [
      "{'E': {'E': 0.9, '5': 0.1}, '5': {'I': 1.0}, 'I': {'I': 0.9, 'end': 0.1}}\n"
     ]
    }
   ],
   "source": [
    "T = {\n",
    "    'E': {'E': 0.9, '5': 0.1},\n",
    "    '5': {'I': 1.0},\n",
    "    'I': {'I': 0.9, 'end': 0.1},\n",
    "}\n",
    "print(T)"
   ]
  },
  {
   "cell_type": "markdown",
   "id": "199853ad-c015-46d8-b795-ff08092f2e94",
   "metadata": {},
   "source": [
    "## Emission Probabilities in Hidden Markov Models (HMM)\n",
    "\n",
    "### 🔹 Definition\n",
    "Emission probabilities represent the likelihood of observing a specific symbol (e.g., a nucleotide like A, C, G, or T) given the current hidden state.\n",
    "\n",
    "They are written as:\n",
    "\n",
    "$$\n",
    "P(o_t = k \\mid s_t = i)\n",
    "$$\n",
    "\n",
    "Where:\n",
    "\n",
    "- \\( o_t \\): observed symbol at time \\( t \\)\n",
    "- \\( s_t \\): hidden state at time \\( t \\)\n",
    "\n",
    "---\n",
    "\n",
    "### 🔹 Key Points\n",
    "\n",
    "- Emission probabilities link the **hidden states** to the **observable data**.\n",
    "- For any given state \\( i \\), the sum of emission probabilities over all possible symbols \\( k \\) must be 1:\n",
    "\n",
    "$$\n",
    "\\sum_k P(o_t = k \\mid s_t = i) = 1\n",
    "$$\n",
    "\n",
    "---\n",
    "\n"
   ]
  },
  {
   "cell_type": "markdown",
   "id": "61b1adfd-e0f8-42aa-b5a3-ce7f22174af9",
   "metadata": {},
   "source": [
    "## Emission prob matrix"
   ]
  },
  {
   "cell_type": "code",
   "execution_count": 9,
   "id": "0ed7e130-8796-467e-b3d4-ab59dceab2d2",
   "metadata": {},
   "outputs": [
    {
     "name": "stdout",
     "output_type": "stream",
     "text": [
      "{'E': {'A': 0.25, 'C': 0.25, 'G': 0.25, 'T': 0.25}, '5': {'A': 0.05, 'C': 0.0, 'G': 0.95, 'T': 0.0}, 'I': {'A': 0.4, 'C': 0.1, 'G': 0.1, 'T': 0.4}}\n"
     ]
    }
   ],
   "source": [
    "E = {\n",
    "    'E': {'A': 0.25, 'C': 0.25, 'G': 0.25, 'T': 0.25},\n",
    "    '5': {'A': 0.05, 'C': 0.0, 'G': 0.95, 'T': 0.0},\n",
    "    'I': {'A': 0.4, 'C': 0.1, 'G': 0.1, 'T': 0.4}\n",
    "}\n",
    "print(E)"
   ]
  },
  {
   "cell_type": "markdown",
   "id": "e8694b9d-bce6-4ec0-8f4a-a6192b73539a",
   "metadata": {},
   "source": [
    "## Calculating log probability of a given state path for the sequence."
   ]
  },
  {
   "cell_type": "markdown",
   "id": "9b790cff-8460-4e53-8436-650bbc9f25b7",
   "metadata": {},
   "source": [
    "### start state prob"
   ]
  },
  {
   "cell_type": "code",
   "execution_count": 12,
   "id": "dde04c23-a8eb-41f7-96ab-036086fa1cab",
   "metadata": {},
   "outputs": [],
   "source": [
    "start = {'E': 1.0, '5': 0.0, 'I': 0.0}"
   ]
  },
  {
   "cell_type": "code",
   "execution_count": 13,
   "id": "5da9ce48-bbf2-44e2-a643-b25c5d4b5e5f",
   "metadata": {},
   "outputs": [
    {
     "name": "stdout",
     "output_type": "stream",
     "text": [
      "Log probability of given path: -41.22\n"
     ]
    }
   ],
   "source": [
    "def log(x):\n",
    "    return -math.inf if x == 0 else math.log(x)\n",
    "\n",
    "def path_log_prob(path: str, seq: str) -> float:\n",
    "    if len(path) != len(seq):\n",
    "        raise ValueError(\"Path and sequence must be of the same length\")\n",
    "\n",
    "    prob = 0.0\n",
    "    for i in range(len(seq)):\n",
    "        curr_state = path[i]\n",
    "        curr_symbol = seq[i]\n",
    "        if i == 0:\n",
    "            prob += log(start[curr_state])\n",
    "        else:\n",
    "            prev_state = path[i-1]\n",
    "            prob += log(T[prev_state][curr_state])\n",
    "        prob += log(E[curr_state][curr_symbol])\n",
    "    \n",
    "    if path[-1] == 'I':\n",
    "        prob += log(T['I']['end'])\n",
    "\n",
    "    return prob\n",
    "# Test path and DNA sequence\n",
    "path = \"EEEEEEEEEEEEEEEEEE5IIIIIII\"\n",
    "sequence = \"CTTCATGTGAAAGCAGACGTAAGTCA\"\n",
    "\n",
    "print(\"Log probability of given path:\", round(path_log_prob(path, sequence), 2))\n"
   ]
  },
  {
   "cell_type": "markdown",
   "id": "e134bc23-b3d4-4b6b-9233-57f25db315fb",
   "metadata": {},
   "source": [
    "# Viterbi Algorithm-Implementation"
   ]
  },
  {
   "cell_type": "code",
   "execution_count": 15,
   "id": "19a90ce4-ddce-477a-9f28-da602041132c",
   "metadata": {},
   "outputs": [
    {
     "name": "stdout",
     "output_type": "stream",
     "text": [
      "Viterbi best log probability: -38.68\n",
      "Most likely path: EEEEEEEEEEEEEEEEEEEEEEEEEE\n"
     ]
    }
   ],
   "source": [
    "viterbi = [{}]\n",
    "path = {}\n",
    "\n",
    "for s in states:\n",
    "    viterbi[0][s] = log(start[s]) + log(E[s].get(sequence[0], 0))\n",
    "    path[s] = [s]\n",
    "\n",
    "# Viterbi recursion\n",
    "for i in range(1, len(sequence)):\n",
    "    viterbi.append({})\n",
    "    newpath = {}\n",
    "\n",
    "    for curr_state in states:\n",
    "        max_prob = -math.inf\n",
    "        best_prev_state = None\n",
    "\n",
    "        for prev_state in states:\n",
    "            trans_p = T.get(prev_state, {}).get(curr_state, 0)\n",
    "\n",
    "            if trans_p > 0:\n",
    "                emit_p = E[curr_state].get(sequence[i], 0)\n",
    "                if emit_p > 0:\n",
    "                    prob = viterbi[i-1][prev_state] + log(trans_p) + log(emit_p)\n",
    "\n",
    "                    if prob > max_prob:\n",
    "                        max_prob = prob\n",
    "                        best_prev_state = prev_state\n",
    "\n",
    "        viterbi[i][curr_state] = max_prob\n",
    "\n",
    "        if best_prev_state is not None:\n",
    "            newpath[curr_state] = path[best_prev_state] + [curr_state]\n",
    "        else:\n",
    "            newpath[curr_state] = [curr_state]\n",
    "\n",
    "    path = newpath\n",
    "\n",
    "n = len(sequence) - 1\n",
    "(prob, state) = max((viterbi[n][s], s) for s in states)\n",
    "\n",
    "logp = round(prob, 2)\n",
    "best_path = ''.join(path[state])\n",
    "\n",
    "print(\"Viterbi best log probability:\", logp)\n",
    "print(\"Most likely path:\", best_path)"
   ]
  }
 ],
 "metadata": {
  "kernelspec": {
   "display_name": "Python [conda env:base] *",
   "language": "python",
   "name": "conda-base-py"
  },
  "language_info": {
   "codemirror_mode": {
    "name": "ipython",
    "version": 3
   },
   "file_extension": ".py",
   "mimetype": "text/x-python",
   "name": "python",
   "nbconvert_exporter": "python",
   "pygments_lexer": "ipython3",
   "version": "3.12.7"
  }
 },
 "nbformat": 4,
 "nbformat_minor": 5
}
