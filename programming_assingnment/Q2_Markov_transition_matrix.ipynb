{
 "cells": [
  {
   "cell_type": "markdown",
   "id": "fb1e3266-2ca7-411f-b981-633d645835ec",
   "metadata": {},
   "source": [
    "## Theory"
   ]
  },
  {
   "cell_type": "markdown",
   "id": "f9b0f7ab-502c-4df7-a9a3-eeccaacf143a",
   "metadata": {},
   "source": [
    "# Analysis of DNA Sequences with Markov Models\n",
    "\n",
    "## 1. Markov Models for DNA Sequences\n",
    "\n",
    "A **Markov model** is a probabilistic framework for analyzing sequences, where the probability of each state depends on a fixed number of preceding states. In DNA sequence analysis, a **first-order Markov model** assumes that the probability of each nucleotide depends only on the immediate preceding nucleotide.\n",
    "\n",
    "- **States**: The four DNA nucleotides — A, C, G, and T.\n",
    "- **First-Order Property**:\n",
    "\n",
    "  $$\n",
    "  P(X_{t+1} = b \\mid X_t = a, X_{t-1}, \\ldots) = P(X_{t+1} = b \\mid X_t = a)\n",
    "  $$\n",
    "\n",
    "- **Purpose**: This model captures local dependencies in DNA, such as patterns in protein-binding sites.\n",
    "\n",
    "---\n",
    "\n",
    "## 2. Transition Matrix: Definition and Construction\n",
    "\n",
    "The transition matrix is a 4×4 table describing transition probabilities between nucleotide pairs:\n",
    "\n",
    "- **Rows**: Current nucleotide \\( a \\in \\{A, C, G, T\\} \\)\n",
    "- **Columns**: Next nucleotide \\( b \\in \\{A, C, G, T\\} \\)\n",
    "- **Entry**: The conditional probability:\n",
    "\n",
    "  $$\n",
    "  P(b \\mid a) = \\frac{\\text{Count}(ab)}{\\sum_{y \\in \\{A, C, G, T\\}} \\text{Count}(ay)}\n",
    "  $$\n",
    "\n",
    "Each row is normalized so that its entries sum to 1:\n",
    "\n",
    "$$\n",
    "\\sum_{b \\in \\{A,C,G,T\\}} P(b \\mid a) = 1\n",
    "$$\n",
    "\n",
    "This reflects the distribution over possible next nucleotides given a current one.\n",
    "\n",
    "---\n",
    "\n",
    "## 3. Comparison with Dinucleotide Frequency Models\n",
    "\n",
    "A **dinucleotide frequency model** considers the overall frequency of each dinucleotide:\n",
    "\n",
    "$$\n",
    "\\text{Frequency}(ab) = \\frac{\\text{Count}(ab)}{\\sum_{x,y \\in \\{A, C, G, T\\}} \\text{Count}(xy)}\n",
    "$$\n",
    "\n",
    "In contrast, the **Markov model** focuses on the *conditional probability* of \\( b \\) given \\( a \\), capturing sequence dependency.\n",
    "\n",
    "| Feature                 | Dinucleotide Frequency Model | Markov Model (First-Order)     |\n",
    "|------------------------|------------------------------|--------------------------------|\n",
    "| Assumption             | Independent occurrences      | Depends on previous base       |\n",
    "| Normalization          | Global                       | Row-wise (per base)            |\n",
    "| Captures Dependencies? | No                           | Yes                            |\n",
    "\n",
    "---"
   ]
  },
  {
   "cell_type": "code",
   "execution_count": 3,
   "id": "7b63fca4-65a9-428f-b339-548b9406758e",
   "metadata": {},
   "outputs": [],
   "source": [
    "import numpy as np\n",
    "import pandas as pd"
   ]
  },
  {
   "cell_type": "code",
   "execution_count": 4,
   "id": "ac2bb292-1609-4c11-9a83-980be084d12f",
   "metadata": {},
   "outputs": [
    {
     "name": "stdin",
     "output_type": "stream",
     "text": [
      "Enter DNA sequence:  AGACGTAGCT\n"
     ]
    }
   ],
   "source": [
    "sequence = input(\"Enter DNA sequence: \").upper().strip()\n",
    "nucleotides = ['A', 'C', 'G', 'T']"
   ]
  },
  {
   "cell_type": "markdown",
   "id": "281ed9c9-0c98-469b-a5bf-74f00d502a7a",
   "metadata": {},
   "source": [
    "## Initialize 4x4 transition count matrix"
   ]
  },
  {
   "cell_type": "code",
   "execution_count": 6,
   "id": "59d489ee-1af9-4f4a-9ed0-01c5e2b6c60c",
   "metadata": {},
   "outputs": [],
   "source": [
    "transition_counts = pd.DataFrame(0, index=nucleotides, columns=nucleotides)\n",
    "#print(transition_counts)"
   ]
  },
  {
   "cell_type": "code",
   "execution_count": 7,
   "id": "0b60809b-9b2b-4880-ab8e-9309a824fe70",
   "metadata": {},
   "outputs": [],
   "source": [
    "## Count nucleotide transitions AG,CG,.... frequencies table\n",
    "for i in range(len(sequence) - 1):\n",
    "    curr = sequence[i]\n",
    "    next_ = sequence[i + 1]\n",
    "    if curr in nucleotides and next_ in nucleotides:\n",
    "        transition_counts.loc[curr, next_] += 1\n",
    "transition_counts=transition_counts/(len(sequence)-1)\n",
    "#print(transition_counts_prob)"
   ]
  },
  {
   "cell_type": "markdown",
   "id": "13b2aa45-31d9-48b8-9c20-0eb1465f6f62",
   "metadata": {},
   "source": [
    "## convert to transition matrix (normalizing rows)"
   ]
  },
  {
   "cell_type": "code",
   "execution_count": 9,
   "id": "5abf4e8a-28c7-499e-ac17-c050ad04a568",
   "metadata": {},
   "outputs": [
    {
     "name": "stdout",
     "output_type": "stream",
     "text": [
      "\n",
      "Markov Transition Matrix (First-Order):\n",
      "          A         C         G         T\n",
      "A  0.000000  0.333333  0.666667  0.000000\n",
      "C  0.000000  0.000000  0.500000  0.500000\n",
      "G  0.333333  0.333333  0.000000  0.333333\n",
      "T  1.000000  0.000000  0.000000  0.000000\n"
     ]
    }
   ],
   "source": [
    "transition_probs = transition_counts.div(transition_counts.sum(axis=1), axis=0)\n",
    "transition_probs = transition_probs.fillna(0) ## Handle rows with no transitions (set NaN to 0)\n",
    "print(\"\\nMarkov Transition Matrix (First-Order):\")\n",
    "print(transition_probs)"
   ]
  },
  {
   "cell_type": "markdown",
   "id": "1a6b4448-ee60-4587-97fa-e173fca79a84",
   "metadata": {},
   "source": [
    "### REFERENCES:\n",
    "1. Markov Process: https://en.wikipedia.org/wiki/Markov_chain\n",
    "2. Markov Transition Matrices: https://math.libretexts.org/Bookshelves/Applied_Mathematics/Applied_Finite_Mathematics_(Sekhon_and_Bloom)/10%3A_Markov_Chains/10.01%3A_Introduction_to_Markov_Chains"
   ]
  },
  {
   "cell_type": "raw",
   "id": "fcff921d-ef29-4cde-8996-555f2451e5da",
   "metadata": {},
   "source": []
  }
 ],
 "metadata": {
  "kernelspec": {
   "display_name": "Python [conda env:base] *",
   "language": "python",
   "name": "conda-base-py"
  },
  "language_info": {
   "codemirror_mode": {
    "name": "ipython",
    "version": 3
   },
   "file_extension": ".py",
   "mimetype": "text/x-python",
   "name": "python",
   "nbconvert_exporter": "python",
   "pygments_lexer": "ipython3",
   "version": "3.12.7"
  }
 },
 "nbformat": 4,
 "nbformat_minor": 5
}
